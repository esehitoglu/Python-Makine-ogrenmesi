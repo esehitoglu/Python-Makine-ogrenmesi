{
 "cells": [
  {
   "cell_type": "code",
   "execution_count": 1,
   "id": "8e3c462b",
   "metadata": {},
   "outputs": [
    {
     "name": "stdout",
     "output_type": "stream",
     "text": [
      "[[64  4]\n",
      " [ 3 29]]\n",
      "0.8999999999999999\n",
      "0.03590109871423001\n"
     ]
    }
   ],
   "source": [
    "#Bölüm 11: Model Seçimi\n",
    "#k-katlamalı Çapraz Doğrulama (k-fold Cross Validation)\n",
    "\n",
    "#1. kutuphaneler\n",
    "import numpy as np\n",
    "import matplotlib.pyplot as plt\n",
    "import pandas as pd\n",
    "\n",
    "# veri kümesi\n",
    "dataset = pd.read_csv('Social_Network_Ads.csv')\n",
    "X = dataset.iloc[:, [2, 3]].values\n",
    "y = dataset.iloc[:, 4].values\n",
    "\n",
    "# eğitim ve test kümelerinin bölünmesi\n",
    "from sklearn.model_selection import train_test_split\n",
    "X_train, X_test, y_train, y_test = train_test_split(X, y, test_size = 0.25, random_state = 0)\n",
    "\n",
    "# Ölçekleme\n",
    "from sklearn.preprocessing import StandardScaler\n",
    "sc = StandardScaler()\n",
    "X_train = sc.fit_transform(X_train)\n",
    "X_test = sc.transform(X_test)\n",
    "\n",
    "# SVM\n",
    "from sklearn.svm import SVC\n",
    "classifier = SVC(kernel = 'rbf', random_state = 0)\n",
    "classifier.fit(X_train, y_train)\n",
    "\n",
    "# Tahminler\n",
    "y_pred = classifier.predict(X_test)\n",
    "\n",
    "#  Confusion Matrix\n",
    "from sklearn.metrics import confusion_matrix\n",
    "cm = confusion_matrix(y_test, y_pred)\n",
    "\n",
    "print(cm)\n",
    "\n",
    "\n",
    "#k-katlamali capraz dogrulama \n",
    "from sklearn.model_selection import cross_val_score\n",
    "''' \n",
    "1. estimator : classifier (bizim durum)\n",
    "2. X\n",
    "3. Y\n",
    "4. cv : kaç katlamalı\n",
    "\n",
    "'''\n",
    "basari = cross_val_score(estimator = classifier, X=X_train, y=y_train , cv = 4)\n",
    "print(basari.mean())\n",
    "print(basari.std())\n",
    "\n"
   ]
  },
  {
   "cell_type": "code",
   "execution_count": 2,
   "id": "599224b6",
   "metadata": {},
   "outputs": [
    {
     "name": "stdout",
     "output_type": "stream",
     "text": [
      "0.9099999999999999\n",
      "{'C': 1, 'gamma': 1, 'kernel': 'rbf'}\n"
     ]
    }
   ],
   "source": [
    "# parametremetre optimizasyonu ve algoritma seçimi\n",
    "from sklearn.model_selection import GridSearchCV\n",
    "p = [{'C':[1,2,3,4,5],'kernel':['linear']},\n",
    "     {'C':[1,2,3,4,5] ,'kernel':['rbf'],\n",
    "      'gamma':[1,0.5,0.1,0.01,0.001]} ]\n",
    "\n",
    "'''\n",
    "GSCV parametreleri\n",
    "estimator : sınıflandırma algoritması (neyi optimize etmek istediğimiz)\n",
    "param_grid : parametreler/ denenecekler\n",
    "scoring: neye göre skorlanacak : örn : accuracy\n",
    "cv : kaç katlamalı olacağı\n",
    "n_jobs : aynı anda çalışacak iş\n",
    "'''\n",
    "gs = GridSearchCV(estimator= classifier, #SVM algoritması\n",
    "                  param_grid = p,\n",
    "                  scoring =  'accuracy',\n",
    "                  cv = 10,\n",
    "                  n_jobs = -1)\n",
    "\n",
    "grid_search = gs.fit(X_train,y_train)\n",
    "eniyisonuc = grid_search.best_score_\n",
    "eniyiparametreler = grid_search.best_params_\n",
    "\n",
    "print(eniyisonuc)\n",
    "print(eniyiparametreler)\n"
   ]
  },
  {
   "cell_type": "code",
   "execution_count": null,
   "id": "385a47ae",
   "metadata": {},
   "outputs": [],
   "source": []
  }
 ],
 "metadata": {
  "kernelspec": {
   "display_name": "Python 3 (ipykernel)",
   "language": "python",
   "name": "python3"
  },
  "language_info": {
   "codemirror_mode": {
    "name": "ipython",
    "version": 3
   },
   "file_extension": ".py",
   "mimetype": "text/x-python",
   "name": "python",
   "nbconvert_exporter": "python",
   "pygments_lexer": "ipython3",
   "version": "3.11.5"
  }
 },
 "nbformat": 4,
 "nbformat_minor": 5
}
