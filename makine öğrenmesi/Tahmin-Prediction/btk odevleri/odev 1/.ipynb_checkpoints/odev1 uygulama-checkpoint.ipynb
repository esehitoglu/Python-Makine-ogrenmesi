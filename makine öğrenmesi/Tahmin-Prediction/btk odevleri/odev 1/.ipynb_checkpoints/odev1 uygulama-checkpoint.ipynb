{
 "cells": [
  {
   "cell_type": "code",
   "execution_count": 21,
   "id": "6d5b8727",
   "metadata": {},
   "outputs": [
    {
     "name": "stdout",
     "output_type": "stream",
     "text": [
      "[[84.45365573]\n",
      " [63.93839954]\n",
      " [85.76050662]\n",
      " [64.21013241]\n",
      " [75.06793322]]\n",
      "                            OLS Regression Results                            \n",
      "==============================================================================\n",
      "Dep. Variable:               humidity   R-squared:                       0.294\n",
      "Model:                            OLS   Adj. R-squared:                 -0.148\n",
      "Method:                 Least Squares   F-statistic:                    0.6653\n",
      "Date:                Sat, 28 Oct 2023   Prob (F-statistic):              0.661\n",
      "Time:                        16:36:00   Log-Likelihood:                -49.542\n",
      "No. Observations:                  14   AIC:                             111.1\n",
      "Df Residuals:                       8   BIC:                             114.9\n",
      "Df Model:                           5                                         \n",
      "Covariance Type:            nonrobust                                         \n",
      "==============================================================================\n",
      "                 coef    std err          t      P>|t|      [0.025      0.975]\n",
      "------------------------------------------------------------------------------\n",
      "x1            -4.0286      7.229     -0.557      0.593     -20.698      12.641\n",
      "x2            -8.2778      8.029     -1.031      0.333     -26.793      10.237\n",
      "x3            52.3891     50.214      1.043      0.327     -63.404     168.183\n",
      "x4            55.6337     45.233      1.230      0.254     -48.673     159.940\n",
      "x5            49.4291     48.337      1.023      0.336     -62.035     160.893\n",
      "x6             0.4920      0.597      0.825      0.433      -0.884       1.868\n",
      "==============================================================================\n",
      "Omnibus:                        0.935   Durbin-Watson:                   2.416\n",
      "Prob(Omnibus):                  0.627   Jarque-Bera (JB):                0.823\n",
      "Skew:                           0.389   Prob(JB):                        0.663\n",
      "Kurtosis:                       2.103   Cond. No.                     2.08e+03\n",
      "==============================================================================\n",
      "\n",
      "Notes:\n",
      "[1] Standard Errors assume that the covariance matrix of the errors is correctly specified.\n",
      "[2] The condition number is large, 2.08e+03. This might indicate that there are\n",
      "strong multicollinearity or other numerical problems.\n"
     ]
    },
    {
     "name": "stderr",
     "output_type": "stream",
     "text": [
      "C:\\Users\\Ensar\\anaconda3\\Lib\\site-packages\\scipy\\stats\\_stats_py.py:1806: UserWarning: kurtosistest only valid for n>=20 ... continuing anyway, n=14\n",
      "  warnings.warn(\"kurtosistest only valid for n>=20 ... continuing \"\n"
     ]
    }
   ],
   "source": [
    "#Ödev 1: Çözümü 2. Parça: Geri Eleme Yöntemi ile (Backward Elimination) (Ders 34)\n",
    "\n",
    "#1. kutuphaneler\n",
    "import numpy as np\n",
    "import matplotlib.pyplot as plt\n",
    "import pandas as pd\n",
    "\n",
    "#2. Veri Onisleme\n",
    "\n",
    "#2.1. Veri Yukleme\n",
    "veriler = pd.read_csv('odev_tenis.csv')\n",
    "#pd.read_csv(\"veriler.csv\")\n",
    "\n",
    "\n",
    "#veri on isleme\n",
    "\n",
    "#encoder:  Kategorik -> Numeric\n",
    "from sklearn.preprocessing import LabelEncoder\n",
    "veriler2 = veriler.apply(LabelEncoder().fit_transform)\n",
    "\n",
    "c = veriler2.iloc[:,:1]\n",
    "\n",
    "from sklearn import preprocessing\n",
    "ohe = preprocessing.OneHotEncoder()\n",
    "c=ohe.fit_transform(c).toarray()\n",
    "#print(c)\n",
    "\n",
    "havadurumu = pd.DataFrame(data = c, index = range(14), columns=['o','r','s'])\n",
    "sonveriler = pd.concat([havadurumu,veriler.iloc[:,1:3]],axis = 1)\n",
    "sonveriler = pd.concat([veriler2.iloc[:,-2:],sonveriler], axis = 1)\n",
    "\n",
    "\n",
    "#verilerin egitim ve test icin bolunmesi\n",
    "from sklearn.model_selection import train_test_split\n",
    "x_train, x_test,y_train,y_test = train_test_split(sonveriler.iloc[:,:-1],sonveriler.iloc[:,-1:],test_size=0.33, random_state=0)\n",
    "\n",
    "from sklearn.linear_model import LinearRegression\n",
    "regressor = LinearRegression()\n",
    "regressor.fit(x_train,y_train)\n",
    "\n",
    "\n",
    "y_pred = regressor.predict(x_test)\n",
    "\n",
    "print(y_pred)\n",
    "\n",
    "#backward elimination\n",
    "import statsmodels.api as sm\n",
    "X = np.append(arr = np.ones((14,1)).astype(int), values=sonveriler.iloc[:,:-1], axis=1 )\n",
    "\n",
    "X_l = sonveriler.iloc[:,[0,1,2,3,4,5]].values\n",
    "X_l = np.array(X_l,dtype=float)\n",
    "model = sm.OLS(sonveriler.iloc[:,-1:],X_l).fit()\n",
    "print(model.summary())\n",
    "\n",
    "\n"
   ]
  },
  {
   "cell_type": "code",
   "execution_count": 22,
   "id": "ad3c649d",
   "metadata": {},
   "outputs": [
    {
     "name": "stdout",
     "output_type": "stream",
     "text": [
      "                            OLS Regression Results                            \n",
      "==============================================================================\n",
      "Dep. Variable:               humidity   R-squared:                       0.266\n",
      "Model:                            OLS   Adj. R-squared:                 -0.060\n",
      "Method:                 Least Squares   F-statistic:                    0.8165\n",
      "Date:                Sat, 28 Oct 2023   Prob (F-statistic):              0.546\n",
      "Time:                        16:36:01   Log-Likelihood:                -49.809\n",
      "No. Observations:                  14   AIC:                             109.6\n",
      "Df Residuals:                       9   BIC:                             112.8\n",
      "Df Model:                           4                                         \n",
      "Covariance Type:            nonrobust                                         \n",
      "==============================================================================\n",
      "                 coef    std err          t      P>|t|      [0.025      0.975]\n",
      "------------------------------------------------------------------------------\n",
      "x1            -6.2865      6.909     -0.910      0.387     -21.916       9.343\n",
      "x2            36.6564     39.905      0.919      0.382     -53.615     126.927\n",
      "x3            41.9135     36.464      1.149      0.280     -40.573     124.400\n",
      "x4            35.1064     39.339      0.892      0.395     -53.884     124.097\n",
      "x5             0.6484      0.506      1.282      0.232      -0.496       1.793\n",
      "==============================================================================\n",
      "Omnibus:                        0.887   Durbin-Watson:                   2.360\n",
      "Prob(Omnibus):                  0.642   Jarque-Bera (JB):                0.810\n",
      "Skew:                           0.424   Prob(JB):                        0.667\n",
      "Kurtosis:                       2.181   Cond. No.                     1.73e+03\n",
      "==============================================================================\n",
      "\n",
      "Notes:\n",
      "[1] Standard Errors assume that the covariance matrix of the errors is correctly specified.\n",
      "[2] The condition number is large, 1.73e+03. This might indicate that there are\n",
      "strong multicollinearity or other numerical problems.\n"
     ]
    },
    {
     "name": "stderr",
     "output_type": "stream",
     "text": [
      "C:\\Users\\Ensar\\anaconda3\\Lib\\site-packages\\scipy\\stats\\_stats_py.py:1806: UserWarning: kurtosistest only valid for n>=20 ... continuing anyway, n=14\n",
      "  warnings.warn(\"kurtosistest only valid for n>=20 ... continuing \"\n"
     ]
    }
   ],
   "source": [
    "sonveriler = sonveriler.iloc[:,1:]\n",
    "\n",
    "import statsmodels.api as sm\n",
    "X = np.append(arr = np.ones((14,1)).astype(int), values=sonveriler.iloc[:,:-1], axis=1 )\n",
    "\n",
    "X_l = sonveriler.iloc[:,[0,1,2,3,4]].values\n",
    "X_l = np.array(X_l,dtype=float)\n",
    "model = sm.OLS(sonveriler.iloc[:,-1:],X_l).fit()\n",
    "print(model.summary())\n"
   ]
  },
  {
   "cell_type": "code",
   "execution_count": 23,
   "id": "d8a61312",
   "metadata": {},
   "outputs": [
    {
     "data": {
      "text/plain": [
       "array([[77.98135142],\n",
       "       [68.29304916],\n",
       "       [81.05037539],\n",
       "       [71.44926132],\n",
       "       [75.78905304]])"
      ]
     },
     "execution_count": 23,
     "metadata": {},
     "output_type": "execute_result"
    }
   ],
   "source": [
    "x_train = x_train.iloc[:,1:]\n",
    "x_test = x_test.iloc[:,1:]\n",
    "\n",
    "regressor.fit(x_train,y_train)\n",
    "\n",
    "y_pred = regressor.predict(x_test)\n",
    "y_pred"
   ]
  },
  {
   "cell_type": "markdown",
   "id": "bbe2362e",
   "metadata": {},
   "source": [
    "#########################################################################33"
   ]
  },
  {
   "cell_type": "code",
   "execution_count": 9,
   "id": "8265dc97",
   "metadata": {},
   "outputs": [
    {
     "name": "stdout",
     "output_type": "stream",
     "text": [
      "     outlook  temperature  humidity  windy play\n",
      "0      sunny           85        85  False   no\n",
      "1      sunny           80        90   True   no\n",
      "2   overcast           83        86  False  yes\n",
      "3      rainy           70        96  False  yes\n",
      "4      rainy           68        80  False  yes\n",
      "5      rainy           65        70   True   no\n",
      "6   overcast           64        65   True  yes\n",
      "7      sunny           72        95  False   no\n",
      "8      sunny           69        70  False  yes\n",
      "9      rainy           75        80  False  yes\n",
      "10     sunny           75        70   True  yes\n",
      "11  overcast           72        90   True  yes\n",
      "12  overcast           81        75  False  yes\n",
      "13     rainy           71        91   True   no\n"
     ]
    }
   ],
   "source": [
    "# Ödev 1: Çoklu Doğrusal Regresyon (Ders 32)\n",
    "\n",
    "#1. kutuphaneler\n",
    "import numpy as np\n",
    "import matplotlib.pyplot as plt\n",
    "import pandas as pd\n",
    "\n",
    "#2. Veri Onisleme\n",
    "\n",
    "#2.1. Veri Yukleme\n",
    "veriler = pd.read_csv('odev_tenis.csv')\n",
    "#pd.read_csv(\"veriler.csv\")\n",
    "print(veriler)\n",
    "\n",
    "#veri on isleme\n",
    "\n",
    "#encoder:  Kategorik -> Numeric\n",
    "from sklearn.preprocessing import LabelEncoder\n",
    "veriler2 = veriler.apply(LabelEncoder().fit_transform)\n",
    "\n",
    "#veriler2"
   ]
  },
  {
   "cell_type": "code",
   "execution_count": 17,
   "id": "5cbe77cf",
   "metadata": {},
   "outputs": [
    {
     "name": "stdout",
     "output_type": "stream",
     "text": [
      "[[0. 0. 1.]\n",
      " [0. 0. 1.]\n",
      " [1. 0. 0.]\n",
      " [0. 1. 0.]\n",
      " [0. 1. 0.]\n",
      " [0. 1. 0.]\n",
      " [1. 0. 0.]\n",
      " [0. 0. 1.]\n",
      " [0. 0. 1.]\n",
      " [0. 1. 0.]\n",
      " [0. 0. 1.]\n",
      " [1. 0. 0.]\n",
      " [1. 0. 0.]\n",
      " [0. 1. 0.]]\n"
     ]
    }
   ],
   "source": [
    "c = veriler.iloc[:,:1]\n",
    "\n",
    "# from sklearn.preprocessing import OneHotEncoder\n",
    "from sklearn import preprocessing\n",
    "ohe = preprocessing.OneHotEncoder()\n",
    "c=ohe.fit_transform(c).toarray()\n",
    "print(c)"
   ]
  },
  {
   "cell_type": "code",
   "execution_count": 18,
   "id": "3bb4fd90",
   "metadata": {},
   "outputs": [],
   "source": [
    "havadurumu = pd.DataFrame(data = c, index = range(14), columns=['o','r','s'])\n",
    "sonveriler = pd.concat([havadurumu,veriler.iloc[:,1:3]],axis = 1)\n",
    "sonveriler = pd.concat([veriler2.iloc[:,-2:],sonveriler], axis = 1)"
   ]
  },
  {
   "cell_type": "code",
   "execution_count": 22,
   "id": "8d496f94",
   "metadata": {},
   "outputs": [
    {
     "name": "stdout",
     "output_type": "stream",
     "text": [
      "[[84.45365573]\n",
      " [63.93839954]\n",
      " [85.76050662]\n",
      " [64.21013241]\n",
      " [75.06793322]]\n"
     ]
    }
   ],
   "source": [
    "#verilerin egitim ve test icin bolunmesi\n",
    "\n",
    "#from sklearn.cross_validation import train_test_split\n",
    "from sklearn.model_selection import train_test_split\n",
    "x_train, x_test,y_train,y_test = train_test_split(sonveriler.iloc[:,:-1],sonveriler.iloc[:,-1:],test_size=0.33, random_state=0)\n",
    "\n",
    "from sklearn.linear_model import LinearRegression\n",
    "regressor = LinearRegression()\n",
    "regressor.fit(x_train,y_train)\n",
    "\n",
    "\n",
    "y_pred = regressor.predict(x_test)\n",
    "\n",
    "print(y_pred)"
   ]
  },
  {
   "cell_type": "code",
   "execution_count": null,
   "id": "f950e968",
   "metadata": {},
   "outputs": [],
   "source": [
    "import statsmodels.formula.api as sm \n",
    "X = np.append(arr = np.ones((14,1)).astype(int), values=sonveriler.iloc[:,:-1], axis=1 )\n",
    "X_l = sonveriler.iloc[:,[0,1,2,3,4,5]].values\n",
    "r_ols = sm.OLS(endog = sonveriler.iloc[:,-1:], exog =X_l)\n",
    "r = r_ols.fit()\n",
    "print(r.summary())\n",
    "\n",
    "sonveriler = sonveriler.iloc[:,1:]\n",
    "\n",
    "import statsmodels.formula.api as sm \n",
    "X = np.append(arr = np.ones((14,1)).astype(int), values=sonveriler.iloc[:,:-1], axis=1 )\n",
    "X_l = sonveriler.iloc[:,[0,1,2,3,4]].values\n",
    "r_ols = sm.OLS(endog = sonveriler.iloc[:,-1:], exog =X_l)\n",
    "r = r_ols.fit()\n",
    "print(r.summary())\n",
    "\n",
    "x_train = x_train.iloc[:,1:]\n",
    "x_test = x_test.iloc[:,1:]\n",
    "\n",
    "regressor.fit(x_train,y_train)\n",
    "\n",
    "\n",
    "y_pred = regressor.predict(x_test)"
   ]
  }
 ],
 "metadata": {
  "kernelspec": {
   "display_name": "Python 3 (ipykernel)",
   "language": "python",
   "name": "python3"
  },
  "language_info": {
   "codemirror_mode": {
    "name": "ipython",
    "version": 3
   },
   "file_extension": ".py",
   "mimetype": "text/x-python",
   "name": "python",
   "nbconvert_exporter": "python",
   "pygments_lexer": "ipython3",
   "version": "3.11.5"
  }
 },
 "nbformat": 4,
 "nbformat_minor": 5
}
