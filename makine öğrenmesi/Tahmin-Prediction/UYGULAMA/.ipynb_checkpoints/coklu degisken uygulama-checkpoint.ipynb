{
 "cells": [
  {
   "cell_type": "code",
   "execution_count": null,
   "id": "067c7693",
   "metadata": {},
   "outputs": [],
   "source": [
    "#_♥ Ders 29: Çoklu Doğrusal Regresyon Kodlaması: Veri Kümesini Hazırlama\n",
    "\n",
    "#1.kutuphaneler\n",
    "import numpy as np\n",
    "import matplotlib.pyplot as plt\n",
    "import pandas as pd\n",
    "\n",
    "#2.veri onisleme\n",
    "#2.1.veri yukleme\n",
    "veriler = pd.read_csv('veriler.csv')\n",
    "#pd.read_csv(\"veriler.csv\")\n",
    "#test\n",
    "print(veriler)"
   ]
  },
  {
   "cell_type": "code",
   "execution_count": null,
   "id": "172d1ee6",
   "metadata": {},
   "outputs": [],
   "source": [
    "#encoder: Kategorik -> Numeric\n",
    "ulke = veriler.iloc[:,0:1].values\n",
    "print(ulke)\n",
    "\n",
    "from sklearn import preprocessing\n",
    "\n",
    "le = preprocessing.LabelEncoder()\n",
    "\n",
    "ulke[:,0] = le.fit_transform(veriler.iloc[:,0])\n",
    "\n",
    "print(ulke)\n",
    "\n",
    "\n",
    "ohe = preprocessing.OneHotEncoder()\n",
    "ulke = ohe.fit_transform(ulke).toarray()\n",
    "print(ulke)\n",
    "\n",
    "#encoder: Kategorik -> Numeric\n",
    "c = veriler.iloc[:,-1:].values\n",
    "print(c)\n",
    "\n",
    "\n",
    "from sklearn import preprocessing\n",
    "\n",
    "le = preprocessing.LabelEncoder()\n",
    "\n",
    "c[:,-1] = le.fit_transform(veriler.iloc[:,-1])\n",
    "\n",
    "print(c)\n",
    "\n",
    "\n",
    "ohe = preprocessing.OneHotEncoder()\n",
    "c = ohe.fit_transform(c).toarray()\n",
    "print(c)\n"
   ]
  },
  {
   "cell_type": "code",
   "execution_count": null,
   "id": "217b1b05",
   "metadata": {},
   "outputs": [],
   "source": [
    "boyKiloYas = veriler.iloc[:,1:4].values\n",
    "print(boyKiloYas)"
   ]
  },
  {
   "cell_type": "code",
   "execution_count": null,
   "id": "eca210d9",
   "metadata": {},
   "outputs": [],
   "source": [
    "#numpy dizileri dataframe donusumu\n",
    "sonuc = pd.DataFrame(data=ulke, index = range(22), columns = ['fr','tr','us'])\n",
    "#print(sonuc)\n",
    "\n",
    "sonuc2 = pd.DataFrame(data=boyKiloYas, index = range(22), columns = ['boy','kilo','yas'])\n",
    "print(sonuc2)\n",
    "\n",
    "cinsiyet = veriler.iloc[:,-1].values\n",
    "print(cinsiyet)\n",
    "\n",
    "sonuc3 = pd.DataFrame(data = c[:,0:1], index = range(22), columns = ['cinsiyet'])\n",
    "print(sonuc3)\n"
   ]
  },
  {
   "cell_type": "code",
   "execution_count": null,
   "id": "63d4a319",
   "metadata": {},
   "outputs": [],
   "source": [
    "#dataframe birlestirme islemi\n",
    "s=pd.concat([sonuc,sonuc2], axis=1)\n",
    "print(s)\n",
    "\n",
    "s2=pd.concat([s,sonuc3], axis=1)\n",
    "print(s2)\n"
   ]
  },
  {
   "cell_type": "code",
   "execution_count": null,
   "id": "d7c5f287",
   "metadata": {},
   "outputs": [],
   "source": [
    "#verilerin egitim ve test icin bolunmesi\n",
    "from sklearn.model_selection import train_test_split\n",
    "\n",
    "x_train, x_test,y_train,y_test = train_test_split(s,sonuc3,test_size=0.33, random_state=0)"
   ]
  },
  {
   "cell_type": "markdown",
   "id": "372a1461",
   "metadata": {},
   "source": [
    "#_♥ Ders 29: Çoklu Doğrusal Regresyon Kodlaması: Veri Kümesini Hazırlama"
   ]
  },
  {
   "cell_type": "code",
   "execution_count": 5,
   "id": "1fc8d97c",
   "metadata": {},
   "outputs": [
    {
     "name": "stdout",
     "output_type": "stream",
     "text": [
      "[[130]\n",
      " [125]\n",
      " [135]\n",
      " [133]\n",
      " [129]\n",
      " [180]\n",
      " [190]\n",
      " [175]\n",
      " [177]\n",
      " [185]\n",
      " [165]\n",
      " [155]\n",
      " [160]\n",
      " [162]\n",
      " [167]\n",
      " [174]\n",
      " [193]\n",
      " [187]\n",
      " [183]\n",
      " [159]\n",
      " [164]\n",
      " [166]]\n"
     ]
    }
   ],
   "source": [
    "#Ders 30: Çoklu Doğrusal Regresyon Kodlaması: Regresyon Modeli\n",
    "\n",
    "from sklearn.linear_model import LinearRegression\n",
    "regressor = LinearRegression()\n",
    "regressor.fit(x_train,y_train)\n",
    "\n",
    "y_pred = regressor.predict(x_test)\n",
    "\n",
    "boy = s2.iloc[:,3:4].values\n",
    "print(boy)\n",
    "sol = s2.iloc[:,:3]\n",
    "sag = s2.iloc[:,4:]\n",
    "\n",
    "veri = pd.concat([sol,sag],axis=1)\n",
    "\n",
    "x_train, x_test,y_train,y_test = train_test_split(veri,boy,test_size=0.33, random_state=0)\n",
    "\n",
    "\n",
    "r2 = LinearRegression()\n",
    "r2.fit(x_train,y_train)\n",
    "\n",
    "y_pred = r2.predict(x_test)\n",
    "\n"
   ]
  },
  {
   "cell_type": "code",
   "execution_count": null,
   "id": "d952f83e",
   "metadata": {},
   "outputs": [],
   "source": [
    "#Ders 31: Geri Eleme Yöntemi (Backward Elimination\n",
    "\n",
    "import statsmodels.api as sm\n",
    "\n",
    "X = np.append(arr = np.ones((22,1)).astype(int), values=veri, axis=1)\n",
    "\n",
    "X_l = veri.iloc[:,[0,1,2,3,4,5]].values\n",
    "X_l = np.array(X_l,dtype=float)\n",
    "model = sm.OLS(boy,X_l).fit()\n",
    "print(model.summary())\n",
    "\n",
    "\n",
    "X_l = veri.iloc[:,[0,1,2,3,5]].values\n",
    "X_l = np.array(X_l,dtype=float)\n",
    "model = sm.OLS(boy,X_l).fit()\n",
    "print(model.summary())\n",
    "\n",
    "\n",
    "\n",
    "X_l = veri.iloc[:,[0,1,2,3]].values\n",
    "X_l = np.array(X_l,dtype=float)\n",
    "model = sm.OLS(boy,X_l).fit()\n",
    "print(model.summary())"
   ]
  },
  {
   "cell_type": "code",
   "execution_count": null,
   "id": "7abe4040",
   "metadata": {},
   "outputs": [],
   "source": []
  },
  {
   "cell_type": "code",
   "execution_count": null,
   "id": "fb0e604c",
   "metadata": {},
   "outputs": [],
   "source": []
  },
  {
   "cell_type": "code",
   "execution_count": null,
   "id": "e7f82f52",
   "metadata": {},
   "outputs": [],
   "source": []
  },
  {
   "cell_type": "code",
   "execution_count": null,
   "id": "b53e4fd8",
   "metadata": {},
   "outputs": [],
   "source": []
  },
  {
   "cell_type": "code",
   "execution_count": null,
   "id": "c7f80b2b",
   "metadata": {},
   "outputs": [],
   "source": []
  }
 ],
 "metadata": {
  "kernelspec": {
   "display_name": "Python 3 (ipykernel)",
   "language": "python",
   "name": "python3"
  },
  "language_info": {
   "codemirror_mode": {
    "name": "ipython",
    "version": 3
   },
   "file_extension": ".py",
   "mimetype": "text/x-python",
   "name": "python",
   "nbconvert_exporter": "python",
   "pygments_lexer": "ipython3",
   "version": "3.11.5"
  }
 },
 "nbformat": 4,
 "nbformat_minor": 5
}
